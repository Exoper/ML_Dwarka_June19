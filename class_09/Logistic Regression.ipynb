{
 "cells": [
  {
   "cell_type": "code",
   "execution_count": 1,
   "metadata": {},
   "outputs": [],
   "source": [
    "import numpy as np\n",
    "import matplotlib.pyplot as plt\n",
    "\n",
    "import seaborn as sns"
   ]
  },
  {
   "cell_type": "code",
   "execution_count": 8,
   "metadata": {},
   "outputs": [
    {
     "name": "stdout",
     "output_type": "stream",
     "text": [
      "(500, 2) (500, 2)\n"
     ]
    }
   ],
   "source": [
    "mean_01 = [0,0]\n",
    "cov_01 = [[2,0.2], [0.2,1]]\n",
    "\n",
    "mean_02 = [3,1]\n",
    "cov_02 = [[1.5,-0.2], [-0.2,2]]\n",
    "\n",
    "dist_01 = np.random.multivariate_normal(mean_01, cov_01, 500)\n",
    "dist_02 = np.random.multivariate_normal(mean_02, cov_02, 500)\n",
    "\n",
    "print(dist_01.shape, dist_02.shape)"
   ]
  },
  {
   "cell_type": "code",
   "execution_count": 9,
   "metadata": {},
   "outputs": [
    {
     "data": {
      "image/png": "[encoded data removed]",
      "text/plain": [
       "<Figure size 432x288 with 1 Axes>"
      ]
     },
     "metadata": {
      "needs_background": "light"
     },
     "output_type": "display_data"
    }
   ],
   "source": [
    "plt.figure()\n",
    "plt.scatter(dist_01[:,0], dist_01[:,1], color='red')\n",
    "plt.scatter(dist_02[:,0], dist_02[:,1], color='green')\n",
    "plt.show()"
   ]
  },
  {
   "cell_type": "code",
   "execution_count": 96,
   "metadata": {},
   "outputs": [
    {
     "data": {
      "text/plain": [
       "(1000, 3)"
      ]
     },
     "execution_count": 96,
     "metadata": {},
     "output_type": "execute_result"
    }
   ],
   "source": [
    "dataset = np.zeros((dist_01.shape[0] + dist_02.shape[0], dist_01.shape[1] + 1))\n",
    "dataset[:dist_01.shape[0], :-1] = dist_01\n",
    "dataset[dist_01.shape[0]:, :-1] = dist_02\n",
    "\n",
    "# Red = 0, Green = 1\n",
    "dataset[dist_02.shape[0]:, -1] = 1\n",
    "\n",
    "dataset.shape"
   ]
  },
  {
   "cell_type": "code",
   "execution_count": 97,
   "metadata": {},
   "outputs": [],
   "source": [
    "np.random.shuffle(dataset)"
   ]
  },
  {
   "cell_type": "code",
   "execution_count": 98,
   "metadata": {},
   "outputs": [],
   "source": [
    "from sklearn.model_selection import train_test_split\n",
    "\n",
    "X_train, X_test, y_train, y_test = train_test_split(dataset[:,:-1], dataset[:,-1], test_size=0.2)"
   ]
  },
  {
   "cell_type": "code",
   "execution_count": 99,
   "metadata": {},
   "outputs": [
    {
     "data": {
      "text/plain": [
       "((800, 2), (200, 2), (800,), (200,))"
      ]
     },
     "execution_count": 99,
     "metadata": {},
     "output_type": "execute_result"
    }
   ],
   "source": [
    "X_train.shape, X_test.shape, y_train.shape, y_test.shape"
   ]
  },
  {
   "cell_type": "code",
   "execution_count": 40,
   "metadata": {},
   "outputs": [],
   "source": [
    "class LogisticRegression:\n",
    "    \n",
    "    def __init__(self, X, y):\n",
    "        self.X = X\n",
    "        self.y = y\n",
    "        self.coef = np.random.uniform(low=-1, high=1, size=(self.X.shape[1], ))\n",
    "        self.bias = np.random.random()\n",
    "        \n",
    "    \n",
    "    @staticmethod\n",
    "    def sigmoid(z):\n",
    "        return 1 / (1 + np.exp(-z))\n",
    "    \n",
    "    def hypothesis(self, x):\n",
    "        return LogisticRegression.sigmoid(self.coef.dot(x) + self.bias)\n",
    "    \n",
    "    def predict(self, x):\n",
    "        hx = self.hypothesis(x)\n",
    "        if hx < 0.5:\n",
    "            return 0\n",
    "        else:\n",
    "            return 1\n",
    "        \n",
    "    def compute_loss(self):\n",
    "        # L = ylog(yhat) + (1-y)(log(1 - yhat))\n",
    "        # In our case, substitute yhat with hypothesis()\n",
    "        \n",
    "        log_loss = 0\n",
    "        for x,y in zip(self.X, self.y):\n",
    "            yhat = self.hypothesis(x)\n",
    "            loss = (y * np.log(yhat + 1e-03)) + (1 - y)*(np.log(1 - yhat + 1e-03))\n",
    "            log_loss += loss\n",
    "            \n",
    "        neg_log_likelihood = -log_loss\n",
    "        \n",
    "        return neg_log_likelihood\n",
    "    \n",
    "    def accuracy(self, test, true_labels):\n",
    "        preds = []\n",
    "        for x in test:\n",
    "            preds.append(self.predict(x))\n",
    "        preds = np.array(preds)\n",
    "        return (preds == true_labels).sum() / preds.shape[0]\n",
    "    \n",
    "    def apply_gradient_descent(self, learning_rate=0.01):\n",
    "        \n",
    "        # Compute Gradients\n",
    "        gradients = np.zeros_like(self.coef)\n",
    "        grad_00 = 0\n",
    "        \n",
    "        for i in range(self.X.shape[0]):\n",
    "            xi = self.X[i]\n",
    "            gradients += (self.hypothesis(xi) - self.y[i]) * xi\n",
    "            grad_00 += (self.hypothesis(xi) - self.y[i])\n",
    "        \n",
    "        # Update Weights\n",
    "        self.coef -= learning_rate * gradients\n",
    "        self.bias -= learning_rate * grad_00\n",
    "        \n",
    "    \n",
    "    def train(self, losses, iterations=1, lr=0.01):\n",
    "        for _ in range(iterations):\n",
    "            self.apply_gradient_descent(lr)\n",
    "            losses.append(self.compute_loss())\n",
    "            \n",
    "        return losses\n",
    "    \n",
    "    "
   ]
  },
  {
   "cell_type": "code",
   "execution_count": 100,
   "metadata": {},
   "outputs": [],
   "source": [
    "logreg = LogisticRegression(X_train, y_train)\n",
    "losses = [logreg.compute_loss()]"
   ]
  },
  {
   "cell_type": "code",
   "execution_count": 101,
   "metadata": {},
   "outputs": [],
   "source": [
    "# losses = logreg.train(losses)"
   ]
  },
  {
   "cell_type": "code",
   "execution_count": 102,
   "metadata": {},
   "outputs": [],
   "source": [
    "def draw_decision_boundary(logreg):\n",
    "    plt.figure()\n",
    "    plt.scatter(dist_01[:, 0], dist_01[:, 1], color='red')\n",
    "    plt.scatter(dist_02[:, 0], dist_02[:, 1], color='green')\n",
    "    \n",
    "    x = np.array([-4,5])\n",
    "    y = -(logreg.coef[0] * x + logreg.bias)/logreg.coef[1]\n",
    "    print(y)\n",
    "    print(\"theta[1,2]: \", logreg.coef, 'theta0: ', logreg.bias)\n",
    "    \n",
    "    plt.plot(x,y, 'k')\n",
    "    plt.title(\"Decision Boundary\")\n",
    "    plt.show()"
   ]
  },
  {
   "cell_type": "code",
   "execution_count": 103,
   "metadata": {},
   "outputs": [
    {
     "name": "stdout",
     "output_type": "stream",
     "text": [
      "[15.87244575 -5.45647707]\n",
      "theta[1,2]:  [1.63296809 0.68905087] theta0:  -4.4050501800181845\n"
     ]
    },
    {
     "data": {
      "image/png": "[encoded data removed]",
      "text/plain": [
       "<Figure size 432x288 with 1 Axes>"
      ]
     },
     "metadata": {
      "needs_background": "light"
     },
     "output_type": "display_data"
    },
    {
     "name": "stdout",
     "output_type": "stream",
     "text": [
      "Accuracy: 0.845\n"
     ]
    },
    {
     "data": {
      "image/png": "[encoded data removed]",
      "text/plain": [
       "<Figure size 432x288 with 1 Axes>"
      ]
     },
     "metadata": {
      "needs_background": "light"
     },
     "output_type": "display_data"
    }
   ],
   "source": [
    "losses = logreg.train(losses, 10)\n",
    "draw_decision_boundary(logreg)\n",
    "print(\"Accuracy:\", logreg.accuracy(X_test, y_test))\n",
    "# print(logreg.coef)\n",
    "# print(logreg.bias)\n",
    "\n",
    "plt.figure()\n",
    "plt.plot(losses)\n",
    "plt.show()"
   ]
  },
  {
   "cell_type": "code",
   "execution_count": null,
   "metadata": {},
   "outputs": [],
   "source": []
  },
  {
   "cell_type": "markdown",
   "metadata": {},
   "source": [
    "# SKlearn"
   ]
  },
  {
   "cell_type": "code",
   "execution_count": 61,
   "metadata": {},
   "outputs": [],
   "source": [
    "from sklearn.linear_model import LogisticRegression as SKLR"
   ]
  },
  {
   "cell_type": "code",
   "execution_count": 62,
   "metadata": {},
   "outputs": [],
   "source": [
    "sk_logreg = SKLR()"
   ]
  },
  {
   "cell_type": "code",
   "execution_count": 63,
   "metadata": {},
   "outputs": [
    {
     "name": "stderr",
     "output_type": "stream",
     "text": [
      "/Users/Pratulya/Desktop/codingblocks/ml-dwarka-june19/venv/lib/python3.7/site-packages/sklearn/linear_model/logistic.py:433: FutureWarning: Default solver will be changed to 'lbfgs' in 0.22. Specify a solver to silence this warning.\n",
      "  FutureWarning)\n"
     ]
    },
    {
     "data": {
      "text/plain": [
       "LogisticRegression(C=1.0, class_weight=None, dual=False, fit_intercept=True,\n",
       "          intercept_scaling=1, max_iter=100, multi_class='warn',\n",
       "          n_jobs=None, penalty='l2', random_state=None, solver='warn',\n",
       "          tol=0.0001, verbose=0, warm_start=False)"
      ]
     },
     "execution_count": 63,
     "metadata": {},
     "output_type": "execute_result"
    }
   ],
   "source": [
    "sk_logreg.fit(X_train, y_train)"
   ]
  },
  {
   "cell_type": "code",
   "execution_count": 64,
   "metadata": {},
   "outputs": [
    {
     "data": {
      "text/plain": [
       "0.905"
      ]
     },
     "execution_count": 64,
     "metadata": {},
     "output_type": "execute_result"
    }
   ],
   "source": [
    "sk_logreg.score(X_test, y_test)"
   ]
  },
  {
   "cell_type": "code",
   "execution_count": 65,
   "metadata": {},
   "outputs": [
    {
     "data": {
      "text/plain": [
       "array([[1.63518235, 0.70315675]])"
      ]
     },
     "execution_count": 65,
     "metadata": {},
     "output_type": "execute_result"
    }
   ],
   "source": [
    "sk_logreg.coef_"
   ]
  },
  {
   "cell_type": "code",
   "execution_count": 66,
   "metadata": {},
   "outputs": [
    {
     "data": {
      "text/plain": [
       "array([-2.97692435])"
      ]
     },
     "execution_count": 66,
     "metadata": {},
     "output_type": "execute_result"
    }
   ],
   "source": [
    "sk_logreg.intercept_"
   ]
  },
  {
   "cell_type": "code",
   "execution_count": null,
   "metadata": {},
   "outputs": [],
   "source": []
  }
 ],
 "metadata": {
  "kernelspec": {
   "display_name": "Python 3",
   "language": "python",
   "name": "python3"
  },
  "language_info": {
   "codemirror_mode": {
    "name": "ipython",
    "version": 3
   },
   "file_extension": ".py",
   "mimetype": "text/x-python",
   "name": "python",
   "nbconvert_exporter": "python",
   "pygments_lexer": "ipython3",
   "version": "3.7.0"
  }
 },
 "nbformat": 4,
 "nbformat_minor": 2
}

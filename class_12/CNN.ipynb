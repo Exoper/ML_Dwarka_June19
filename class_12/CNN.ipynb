{
 "cells": [
  {
   "cell_type": "code",
   "execution_count": 1,
   "metadata": {},
   "outputs": [],
   "source": [
    "import numpy as np\n",
    "import matplotlib.pyplot as plt\n",
    "from pandas import read_csv\n",
    "from sklearn.model_selection import train_test_split\n",
    "\n",
    "import keras\n",
    "from keras.models import Sequential\n",
    "from keras.layers import Conv2D, MaxPool2D, Dense, Flatten, Activation\n",
    "from keras.utils import np_utils"
   ]
  },
  {
   "cell_type": "code",
   "execution_count": 2,
   "metadata": {},
   "outputs": [],
   "source": [
    "dataset = read_csv('../datasets/fashion-mnist-test.csv')\n",
    "dataset = dataset.values"
   ]
  },
  {
   "cell_type": "code",
   "execution_count": 3,
   "metadata": {},
   "outputs": [],
   "source": [
    "X, y = dataset[:, 1:]/255, dataset[:, 0]\n",
    "X_train, X_test, y_train, y_test = train_test_split(X, y, test_size=0.2)"
   ]
  },
  {
   "cell_type": "code",
   "execution_count": 4,
   "metadata": {},
   "outputs": [],
   "source": [
    "y_train = np_utils.to_categorical(y_train)\n",
    "y_test  = np_utils.to_categorical(y_test)"
   ]
  },
  {
   "cell_type": "code",
   "execution_count": 5,
   "metadata": {},
   "outputs": [
    {
     "data": {
      "text/plain": [
       "((8000, 784), (2000, 784), (8000, 10), (2000, 10))"
      ]
     },
     "execution_count": 5,
     "metadata": {},
     "output_type": "execute_result"
    }
   ],
   "source": [
    "X_train.shape, X_test.shape, y_train.shape, y_test.shape"
   ]
  },
  {
   "cell_type": "code",
   "execution_count": 12,
   "metadata": {},
   "outputs": [],
   "source": [
    "X_train, X_test = X_train.reshape((-1,28,28,1)), X_test.reshape((-1,28,28,1))"
   ]
  },
  {
   "cell_type": "code",
   "execution_count": 13,
   "metadata": {},
   "outputs": [
    {
     "data": {
      "text/plain": [
       "((8000, 28, 28, 1), (2000, 28, 28, 1), (8000, 10), (2000, 10))"
      ]
     },
     "execution_count": 13,
     "metadata": {},
     "output_type": "execute_result"
    }
   ],
   "source": [
    "X_train.shape, X_test.shape, y_train.shape, y_test.shape"
   ]
  },
  {
   "cell_type": "code",
   "execution_count": null,
   "metadata": {},
   "outputs": [],
   "source": [
    "# LeNet, AlexNet, VGG-16\n",
    "# CIFAR"
   ]
  },
  {
   "cell_type": "code",
   "execution_count": 10,
   "metadata": {},
   "outputs": [
    {
     "name": "stdout",
     "output_type": "stream",
     "text": [
      "_________________________________________________________________\n",
      "Layer (type)                 Output Shape              Param #   \n",
      "=================================================================\n",
      "conv2d_7 (Conv2D)            (None, 26, 26, 4)         40        \n",
      "_________________________________________________________________\n",
      "activation_7 (Activation)    (None, 26, 26, 4)         0         \n",
      "_________________________________________________________________\n",
      "max_pooling2d_7 (MaxPooling2 (None, 13, 13, 4)         0         \n",
      "_________________________________________________________________\n",
      "conv2d_8 (Conv2D)            (None, 11, 11, 8)         296       \n",
      "_________________________________________________________________\n",
      "activation_8 (Activation)    (None, 11, 11, 8)         0         \n",
      "_________________________________________________________________\n",
      "max_pooling2d_8 (MaxPooling2 (None, 5, 5, 8)           0         \n",
      "_________________________________________________________________\n",
      "flatten_1 (Flatten)          (None, 200)               0         \n",
      "_________________________________________________________________\n",
      "dense_1 (Dense)              (None, 100)               20100     \n",
      "_________________________________________________________________\n",
      "dense_2 (Dense)              (None, 10)                1010      \n",
      "_________________________________________________________________\n",
      "activation_9 (Activation)    (None, 10)                0         \n",
      "=================================================================\n",
      "Total params: 21,446\n",
      "Trainable params: 21,446\n",
      "Non-trainable params: 0\n",
      "_________________________________________________________________\n"
     ]
    }
   ],
   "source": [
    "model = Sequential()\n",
    "\n",
    "# Conv1\n",
    "model.add(Conv2D(4, (3,3), input_shape=(28,28,1)))\n",
    "model.add(Activation('relu'))\n",
    "model.add(MaxPool2D((2,2)))\n",
    "\n",
    "# Conv2\n",
    "model.add(Conv2D(8, (3,3)))\n",
    "model.add(Activation('relu'))\n",
    "model.add(MaxPool2D((2,2)))\n",
    "\n",
    "model.add(Flatten())\n",
    "model.add(Dense(100, activation='sigmoid'))\n",
    "# model.add(Activation('sigmoid'))\n",
    "model.add(Dense(10))\n",
    "model.add(Activation('softmax'))\n",
    "\n",
    "model.summary()"
   ]
  },
  {
   "cell_type": "code",
   "execution_count": 18,
   "metadata": {},
   "outputs": [],
   "source": [
    "model.compile(loss='categorical_crossentropy',\n",
    "              optimizer='adam',\n",
    "              metrics=['accuracy'])"
   ]
  },
  {
   "cell_type": "code",
   "execution_count": 19,
   "metadata": {},
   "outputs": [
    {
     "name": "stdout",
     "output_type": "stream",
     "text": [
      "Train on 8000 samples, validate on 2000 samples\n",
      "Epoch 1/30\n",
      "8000/8000 [==============================] - 1s 121us/step - loss: 0.8694 - acc: 0.6880 - val_loss: 0.7732 - val_acc: 0.7385\n",
      "Epoch 2/30\n",
      "8000/8000 [==============================] - 1s 159us/step - loss: 0.7358 - acc: 0.7366 - val_loss: 0.6833 - val_acc: 0.7565\n",
      "Epoch 3/30\n",
      "8000/8000 [==============================] - 1s 134us/step - loss: 0.6536 - acc: 0.7622 - val_loss: 0.6065 - val_acc: 0.7820\n",
      "Epoch 4/30\n",
      "8000/8000 [==============================] - 1s 135us/step - loss: 0.6044 - acc: 0.7752 - val_loss: 0.5845 - val_acc: 0.7875\n",
      "Epoch 5/30\n",
      "8000/8000 [==============================] - 1s 162us/step - loss: 0.5637 - acc: 0.7933 - val_loss: 0.5539 - val_acc: 0.7965\n",
      "Epoch 6/30\n",
      "8000/8000 [==============================] - 1s 130us/step - loss: 0.5336 - acc: 0.8040 - val_loss: 0.5196 - val_acc: 0.7985\n",
      "Epoch 7/30\n",
      "8000/8000 [==============================] - 1s 159us/step - loss: 0.5122 - acc: 0.8086 - val_loss: 0.5035 - val_acc: 0.8185\n",
      "Epoch 8/30\n",
      "8000/8000 [==============================] - 1s 139us/step - loss: 0.4999 - acc: 0.8139 - val_loss: 0.4858 - val_acc: 0.8190\n",
      "Epoch 9/30\n",
      "8000/8000 [==============================] - 1s 132us/step - loss: 0.4815 - acc: 0.8211 - val_loss: 0.4666 - val_acc: 0.8285\n",
      "Epoch 10/30\n",
      "8000/8000 [==============================] - 1s 124us/step - loss: 0.4689 - acc: 0.8304 - val_loss: 0.4605 - val_acc: 0.8275\n",
      "Epoch 11/30\n",
      "8000/8000 [==============================] - 1s 124us/step - loss: 0.4579 - acc: 0.8293 - val_loss: 0.4551 - val_acc: 0.8285\n",
      "Epoch 12/30\n",
      "8000/8000 [==============================] - 1s 152us/step - loss: 0.4462 - acc: 0.8359 - val_loss: 0.4492 - val_acc: 0.8320\n",
      "Epoch 13/30\n",
      "8000/8000 [==============================] - 1s 153us/step - loss: 0.4321 - acc: 0.8410 - val_loss: 0.4355 - val_acc: 0.8365\n",
      "Epoch 14/30\n",
      "8000/8000 [==============================] - 1s 127us/step - loss: 0.4234 - acc: 0.8436 - val_loss: 0.4403 - val_acc: 0.8290\n",
      "Epoch 15/30\n",
      "8000/8000 [==============================] - 1s 126us/step - loss: 0.4178 - acc: 0.8471 - val_loss: 0.4300 - val_acc: 0.8365\n",
      "Epoch 16/30\n",
      "8000/8000 [==============================] - 1s 124us/step - loss: 0.4042 - acc: 0.8498 - val_loss: 0.4279 - val_acc: 0.8405\n",
      "Epoch 17/30\n",
      "8000/8000 [==============================] - 1s 126us/step - loss: 0.4008 - acc: 0.8501 - val_loss: 0.4258 - val_acc: 0.8400\n",
      "Epoch 18/30\n",
      "8000/8000 [==============================] - 1s 147us/step - loss: 0.3894 - acc: 0.8595 - val_loss: 0.4258 - val_acc: 0.8400\n",
      "Epoch 19/30\n",
      "8000/8000 [==============================] - 1s 128us/step - loss: 0.3815 - acc: 0.8616 - val_loss: 0.4239 - val_acc: 0.8390\n",
      "Epoch 20/30\n",
      "8000/8000 [==============================] - 1s 125us/step - loss: 0.3745 - acc: 0.8631 - val_loss: 0.4207 - val_acc: 0.8395\n",
      "Epoch 21/30\n",
      "8000/8000 [==============================] - 1s 122us/step - loss: 0.3698 - acc: 0.8642 - val_loss: 0.4154 - val_acc: 0.8395\n",
      "Epoch 22/30\n",
      "8000/8000 [==============================] - 1s 126us/step - loss: 0.3646 - acc: 0.8678 - val_loss: 0.4062 - val_acc: 0.8455\n",
      "Epoch 23/30\n",
      "8000/8000 [==============================] - 1s 177us/step - loss: 0.3549 - acc: 0.8704 - val_loss: 0.4057 - val_acc: 0.8485\n",
      "Epoch 24/30\n",
      "8000/8000 [==============================] - 1s 137us/step - loss: 0.3554 - acc: 0.8708 - val_loss: 0.4016 - val_acc: 0.8465\n",
      "Epoch 25/30\n",
      "8000/8000 [==============================] - 1s 168us/step - loss: 0.3450 - acc: 0.8750 - val_loss: 0.3973 - val_acc: 0.8495\n",
      "Epoch 26/30\n",
      "8000/8000 [==============================] - 1s 131us/step - loss: 0.3429 - acc: 0.8746 - val_loss: 0.4004 - val_acc: 0.8470\n",
      "Epoch 27/30\n",
      "8000/8000 [==============================] - 1s 126us/step - loss: 0.3401 - acc: 0.8760 - val_loss: 0.4028 - val_acc: 0.8490\n",
      "Epoch 28/30\n",
      "8000/8000 [==============================] - 1s 151us/step - loss: 0.3287 - acc: 0.8811 - val_loss: 0.4029 - val_acc: 0.8455\n",
      "Epoch 29/30\n",
      "8000/8000 [==============================] - 1s 138us/step - loss: 0.3346 - acc: 0.8785 - val_loss: 0.3914 - val_acc: 0.8530\n",
      "Epoch 30/30\n",
      "8000/8000 [==============================] - 1s 137us/step - loss: 0.3187 - acc: 0.8880 - val_loss: 0.3994 - val_acc: 0.8520\n"
     ]
    }
   ],
   "source": [
    "hist = model.fit(X_train, y_train,\n",
    "          shuffle=True,\n",
    "          batch_size=128,\n",
    "          epochs=30,\n",
    "          validation_data=(X_test, y_test)\n",
    "         )"
   ]
  },
  {
   "cell_type": "code",
   "execution_count": 20,
   "metadata": {},
   "outputs": [
    {
     "data": {
      "image/png": "[encoded data removed]",
      "text/plain": [
       "<Figure size 432x288 with 1 Axes>"
      ]
     },
     "metadata": {
      "needs_background": "light"
     },
     "output_type": "display_data"
    },
    {
     "data": {
      "image/png": "[encoded data removed]",
      "text/plain": [
       "<Figure size 432x288 with 1 Axes>"
      ]
     },
     "metadata": {
      "needs_background": "light"
     },
     "output_type": "display_data"
    }
   ],
   "source": [
    "plt.figure(0)\n",
    "plt.title(\"Loss\")\n",
    "plt.plot(hist.history['loss'], 'r', label='Training')\n",
    "plt.plot(hist.history['val_loss'], 'b', label='Testing')\n",
    "plt.legend()\n",
    "plt.show()\n",
    "\n",
    "plt.figure(1)\n",
    "plt.title(\"Accuracy\")\n",
    "plt.plot(hist.history['acc'], 'r', label='Training')\n",
    "plt.plot(hist.history['val_acc'], 'b', label='Testing')\n",
    "plt.legend()\n",
    "plt.show()"
   ]
  },
  {
   "cell_type": "code",
   "execution_count": null,
   "metadata": {},
   "outputs": [],
   "source": []
  }
 ],
 "metadata": {
  "kernelspec": {
   "display_name": "Python 3",
   "language": "python",
   "name": "python3"
  },
  "language_info": {
   "codemirror_mode": {
    "name": "ipython",
    "version": 3
   },
   "file_extension": ".py",
   "mimetype": "text/x-python",
   "name": "python",
   "nbconvert_exporter": "python",
   "pygments_lexer": "ipython3",
   "version": "3.7.0"
  }
 },
 "nbformat": 4,
 "nbformat_minor": 2
}

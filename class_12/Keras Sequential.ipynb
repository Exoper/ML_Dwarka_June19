{
 "cells": [
  {
   "cell_type": "code",
   "execution_count": 4,
   "metadata": {},
   "outputs": [],
   "source": [
    "import numpy as np\n",
    "import matplotlib.pyplot as plt\n",
    "from pandas import read_csv\n",
    "from sklearn.model_selection import train_test_split\n",
    "\n",
    "import keras\n",
    "from keras.models import Sequential\n",
    "from keras.layers import Dense, Activation\n",
    "from keras.utils import np_utils"
   ]
  },
  {
   "cell_type": "code",
   "execution_count": 3,
   "metadata": {},
   "outputs": [],
   "source": [
    "dataset = read_csv('../datasets/mnist_data/train.csv')\n",
    "dataset = dataset.values"
   ]
  },
  {
   "cell_type": "code",
   "execution_count": 5,
   "metadata": {},
   "outputs": [],
   "source": [
    "X, y = dataset[:, 1:]/255, dataset[:, 0]\n",
    "X_train, X_test, y_train, y_test = train_test_split(X, y, test_size=0.2)"
   ]
  },
  {
   "cell_type": "code",
   "execution_count": 10,
   "metadata": {},
   "outputs": [
    {
     "data": {
      "text/plain": [
       "((33600,), (8400,))"
      ]
     },
     "execution_count": 10,
     "metadata": {},
     "output_type": "execute_result"
    }
   ],
   "source": [
    "y_train.shape, y_test.shape"
   ]
  },
  {
   "cell_type": "code",
   "execution_count": 11,
   "metadata": {},
   "outputs": [],
   "source": [
    "y_train = np_utils.to_categorical(y_train)\n",
    "y_test  = np_utils.to_categorical(y_test)"
   ]
  },
  {
   "cell_type": "code",
   "execution_count": 12,
   "metadata": {},
   "outputs": [
    {
     "data": {
      "text/plain": [
       "((33600, 10), (8400, 10))"
      ]
     },
     "execution_count": 12,
     "metadata": {},
     "output_type": "execute_result"
    }
   ],
   "source": [
    "y_train.shape, y_test.shape"
   ]
  },
  {
   "cell_type": "code",
   "execution_count": 7,
   "metadata": {},
   "outputs": [
    {
     "name": "stdout",
     "output_type": "stream",
     "text": [
      "_________________________________________________________________\n",
      "Layer (type)                 Output Shape              Param #   \n",
      "=================================================================\n",
      "dense_1 (Dense)              (None, 256)               200960    \n",
      "_________________________________________________________________\n",
      "activation_1 (Activation)    (None, 256)               0         \n",
      "_________________________________________________________________\n",
      "dense_2 (Dense)              (None, 64)                16448     \n",
      "_________________________________________________________________\n",
      "activation_2 (Activation)    (None, 64)                0         \n",
      "_________________________________________________________________\n",
      "dense_3 (Dense)              (None, 10)                650       \n",
      "_________________________________________________________________\n",
      "activation_3 (Activation)    (None, 10)                0         \n",
      "=================================================================\n",
      "Total params: 218,058\n",
      "Trainable params: 218,058\n",
      "Non-trainable params: 0\n",
      "_________________________________________________________________\n"
     ]
    }
   ],
   "source": [
    "model = Sequential()\n",
    "\n",
    "model.add(Dense(256, input_shape=(784,)))\n",
    "model.add(Activation('sigmoid'))\n",
    "\n",
    "model.add(Dense(64))\n",
    "model.add(Activation('sigmoid'))\n",
    "\n",
    "model.add(Dense(10))\n",
    "model.add(Activation('softmax'))\n",
    "\n",
    "model.summary()"
   ]
  },
  {
   "cell_type": "code",
   "execution_count": 19,
   "metadata": {},
   "outputs": [],
   "source": [
    "# Initialize Weights\n",
    "model.compile(loss='categorical_crossentropy', optimizer='sgd', metrics=['accuracy'])"
   ]
  },
  {
   "cell_type": "code",
   "execution_count": 20,
   "metadata": {},
   "outputs": [
    {
     "name": "stdout",
     "output_type": "stream",
     "text": [
      "Train on 33600 samples, validate on 8400 samples\n",
      "Epoch 1/50\n",
      "33600/33600 [==============================] - 1s 33us/step - loss: 0.4761 - acc: 0.8735 - val_loss: 0.4724 - val_acc: 0.8724\n",
      "Epoch 2/50\n",
      "33600/33600 [==============================] - 1s 35us/step - loss: 0.4692 - acc: 0.8754 - val_loss: 0.4660 - val_acc: 0.8736\n",
      "Epoch 3/50\n",
      "33600/33600 [==============================] - 1s 30us/step - loss: 0.4627 - acc: 0.8772 - val_loss: 0.4597 - val_acc: 0.8743\n",
      "Epoch 4/50\n",
      "33600/33600 [==============================] - 1s 31us/step - loss: 0.4565 - acc: 0.8782 - val_loss: 0.4536 - val_acc: 0.8751\n",
      "Epoch 5/50\n",
      "33600/33600 [==============================] - 1s 31us/step - loss: 0.4507 - acc: 0.8794 - val_loss: 0.4479 - val_acc: 0.8765\n",
      "Epoch 6/50\n",
      "33600/33600 [==============================] - 1s 31us/step - loss: 0.4452 - acc: 0.8808 - val_loss: 0.4430 - val_acc: 0.8775\n",
      "Epoch 7/50\n",
      "33600/33600 [==============================] - 2s 56us/step - loss: 0.4400 - acc: 0.8817 - val_loss: 0.4377 - val_acc: 0.8786\n",
      "Epoch 8/50\n",
      "33600/33600 [==============================] - 2s 49us/step - loss: 0.4349 - acc: 0.8825 - val_loss: 0.4331 - val_acc: 0.8800\n",
      "Epoch 9/50\n",
      "33600/33600 [==============================] - 1s 38us/step - loss: 0.4301 - acc: 0.8832 - val_loss: 0.4281 - val_acc: 0.8804\n",
      "Epoch 10/50\n",
      "33600/33600 [==============================] - 1s 33us/step - loss: 0.4256 - acc: 0.8844 - val_loss: 0.4237 - val_acc: 0.8818\n",
      "Epoch 11/50\n",
      "33600/33600 [==============================] - 1s 31us/step - loss: 0.4213 - acc: 0.8851 - val_loss: 0.4198 - val_acc: 0.8832\n",
      "Epoch 12/50\n",
      "33600/33600 [==============================] - 1s 29us/step - loss: 0.4172 - acc: 0.8862 - val_loss: 0.4156 - val_acc: 0.8830\n",
      "Epoch 13/50\n",
      "33600/33600 [==============================] - 1s 28us/step - loss: 0.4132 - acc: 0.8873 - val_loss: 0.4115 - val_acc: 0.8845\n",
      "Epoch 14/50\n",
      "33600/33600 [==============================] - 1s 29us/step - loss: 0.4093 - acc: 0.8880 - val_loss: 0.4079 - val_acc: 0.8856\n",
      "Epoch 15/50\n",
      "33600/33600 [==============================] - 1s 29us/step - loss: 0.4057 - acc: 0.8888 - val_loss: 0.4046 - val_acc: 0.8860\n",
      "Epoch 16/50\n",
      "33600/33600 [==============================] - 1s 29us/step - loss: 0.4023 - acc: 0.8899 - val_loss: 0.4012 - val_acc: 0.8851\n",
      "Epoch 17/50\n",
      "33600/33600 [==============================] - 1s 42us/step - loss: 0.3990 - acc: 0.8901 - val_loss: 0.3977 - val_acc: 0.8865\n",
      "Epoch 18/50\n",
      "33600/33600 [==============================] - 2s 53us/step - loss: 0.3957 - acc: 0.8912 - val_loss: 0.3944 - val_acc: 0.8876\n",
      "Epoch 19/50\n",
      "33600/33600 [==============================] - 1s 32us/step - loss: 0.3926 - acc: 0.8917 - val_loss: 0.3916 - val_acc: 0.8879\n",
      "Epoch 20/50\n",
      "33600/33600 [==============================] - 1s 29us/step - loss: 0.3897 - acc: 0.8923 - val_loss: 0.3886 - val_acc: 0.8888\n",
      "Epoch 21/50\n",
      "33600/33600 [==============================] - 1s 42us/step - loss: 0.3867 - acc: 0.8929 - val_loss: 0.3861 - val_acc: 0.8893\n",
      "Epoch 22/50\n",
      "33600/33600 [==============================] - 1s 40us/step - loss: 0.3839 - acc: 0.8933 - val_loss: 0.3836 - val_acc: 0.8894\n",
      "Epoch 23/50\n",
      "33600/33600 [==============================] - 2s 48us/step - loss: 0.3813 - acc: 0.8938 - val_loss: 0.3809 - val_acc: 0.8915\n",
      "Epoch 24/50\n",
      "33600/33600 [==============================] - 2s 47us/step - loss: 0.3787 - acc: 0.8946 - val_loss: 0.3785 - val_acc: 0.8919\n",
      "Epoch 25/50\n",
      "33600/33600 [==============================] - 1s 35us/step - loss: 0.3762 - acc: 0.8954 - val_loss: 0.3760 - val_acc: 0.8924\n",
      "Epoch 26/50\n",
      "33600/33600 [==============================] - 1s 37us/step - loss: 0.3738 - acc: 0.8961 - val_loss: 0.3735 - val_acc: 0.8925\n",
      "Epoch 27/50\n",
      "33600/33600 [==============================] - 1s 34us/step - loss: 0.3714 - acc: 0.8960 - val_loss: 0.3715 - val_acc: 0.8918\n",
      "Epoch 28/50\n",
      "33600/33600 [==============================] - 1s 33us/step - loss: 0.3691 - acc: 0.8968 - val_loss: 0.3694 - val_acc: 0.8926\n",
      "Epoch 29/50\n",
      "33600/33600 [==============================] - 2s 49us/step - loss: 0.3669 - acc: 0.8971 - val_loss: 0.3670 - val_acc: 0.8935\n",
      "Epoch 30/50\n",
      "33600/33600 [==============================] - 1s 37us/step - loss: 0.3648 - acc: 0.8979 - val_loss: 0.3644 - val_acc: 0.8940\n",
      "Epoch 31/50\n",
      "33600/33600 [==============================] - 1s 37us/step - loss: 0.3627 - acc: 0.8983 - val_loss: 0.3630 - val_acc: 0.8951\n",
      "Epoch 32/50\n",
      "33600/33600 [==============================] - 1s 34us/step - loss: 0.3606 - acc: 0.8991 - val_loss: 0.3612 - val_acc: 0.8939\n",
      "Epoch 33/50\n",
      "33600/33600 [==============================] - 1s 41us/step - loss: 0.3586 - acc: 0.8992 - val_loss: 0.3589 - val_acc: 0.8954\n",
      "Epoch 34/50\n",
      "33600/33600 [==============================] - 1s 35us/step - loss: 0.3567 - acc: 0.8994 - val_loss: 0.3570 - val_acc: 0.8958\n",
      "Epoch 35/50\n",
      "33600/33600 [==============================] - 1s 32us/step - loss: 0.3548 - acc: 0.9000 - val_loss: 0.3553 - val_acc: 0.8962\n",
      "Epoch 36/50\n",
      "33600/33600 [==============================] - 1s 31us/step - loss: 0.3530 - acc: 0.9006 - val_loss: 0.3538 - val_acc: 0.8971\n",
      "Epoch 37/50\n",
      "33600/33600 [==============================] - 1s 30us/step - loss: 0.3512 - acc: 0.9008 - val_loss: 0.3518 - val_acc: 0.8977\n",
      "Epoch 38/50\n",
      "33600/33600 [==============================] - 2s 49us/step - loss: 0.3494 - acc: 0.9013 - val_loss: 0.3503 - val_acc: 0.8980\n",
      "Epoch 39/50\n",
      "33600/33600 [==============================] - 1s 44us/step - loss: 0.3477 - acc: 0.9014 - val_loss: 0.3483 - val_acc: 0.8988\n",
      "Epoch 40/50\n",
      "33600/33600 [==============================] - 1s 35us/step - loss: 0.3460 - acc: 0.9023 - val_loss: 0.3467 - val_acc: 0.8994\n",
      "Epoch 41/50\n",
      "33600/33600 [==============================] - 1s 30us/step - loss: 0.3444 - acc: 0.9022 - val_loss: 0.3454 - val_acc: 0.8994\n",
      "Epoch 42/50\n",
      "33600/33600 [==============================] - 1s 28us/step - loss: 0.3428 - acc: 0.9028 - val_loss: 0.3439 - val_acc: 0.8990\n",
      "Epoch 43/50\n",
      "33600/33600 [==============================] - 1s 29us/step - loss: 0.3413 - acc: 0.9029 - val_loss: 0.3422 - val_acc: 0.9012\n",
      "Epoch 44/50\n",
      "33600/33600 [==============================] - 1s 29us/step - loss: 0.3397 - acc: 0.9033 - val_loss: 0.3407 - val_acc: 0.9010\n",
      "Epoch 45/50\n",
      "33600/33600 [==============================] - 1s 28us/step - loss: 0.3382 - acc: 0.9034 - val_loss: 0.3395 - val_acc: 0.9007\n",
      "Epoch 46/50\n",
      "33600/33600 [==============================] - 1s 29us/step - loss: 0.3368 - acc: 0.9040 - val_loss: 0.3381 - val_acc: 0.9018\n",
      "Epoch 47/50\n",
      "33600/33600 [==============================] - 1s 29us/step - loss: 0.3353 - acc: 0.9046 - val_loss: 0.3370 - val_acc: 0.9013\n",
      "Epoch 48/50\n",
      "33600/33600 [==============================] - 1s 33us/step - loss: 0.3339 - acc: 0.9049 - val_loss: 0.3354 - val_acc: 0.9021\n",
      "Epoch 49/50\n",
      "33600/33600 [==============================] - 1s 30us/step - loss: 0.3325 - acc: 0.9049 - val_loss: 0.3343 - val_acc: 0.9018\n",
      "Epoch 50/50\n",
      "33600/33600 [==============================] - 1s 29us/step - loss: 0.3310 - acc: 0.9055 - val_loss: 0.3328 - val_acc: 0.9012\n"
     ]
    }
   ],
   "source": [
    "hist = model.fit(X_train, y_train,\n",
    "          shuffle=True,\n",
    "          epochs=50,\n",
    "          batch_size=128,\n",
    "          validation_data=(X_test, y_test)\n",
    "         )"
   ]
  },
  {
   "cell_type": "code",
   "execution_count": 16,
   "metadata": {},
   "outputs": [
    {
     "data": {
      "text/plain": [
       "dict_keys(['val_loss', 'val_acc', 'loss', 'acc'])"
      ]
     },
     "execution_count": 16,
     "metadata": {},
     "output_type": "execute_result"
    }
   ],
   "source": [
    "hist.history.keys()"
   ]
  },
  {
   "cell_type": "code",
   "execution_count": 21,
   "metadata": {},
   "outputs": [
    {
     "data": {
      "image/png": "[encoded data removed]",
      "text/plain": [
       "<Figure size 432x288 with 1 Axes>"
      ]
     },
     "metadata": {
      "needs_background": "light"
     },
     "output_type": "display_data"
    },
    {
     "data": {
      "image/png": "[encoded data removed]",
      "text/plain": [
       "<Figure size 432x288 with 1 Axes>"
      ]
     },
     "metadata": {
      "needs_background": "light"
     },
     "output_type": "display_data"
    }
   ],
   "source": [
    "plt.figure(0)\n",
    "plt.title(\"Loss\")\n",
    "plt.plot(hist.history['loss'], 'r', label='Training')\n",
    "plt.plot(hist.history['val_loss'], 'b', label='Testing')\n",
    "plt.legend()\n",
    "plt.show()\n",
    "\n",
    "plt.figure(1)\n",
    "plt.title(\"Accuracy\")\n",
    "plt.plot(hist.history['acc'], 'r', label='Training')\n",
    "plt.plot(hist.history['val_acc'], 'b', label='Testing')\n",
    "plt.legend()\n",
    "plt.show()"
   ]
  },
  {
   "cell_type": "code",
   "execution_count": null,
   "metadata": {},
   "outputs": [],
   "source": []
  }
 ],
 "metadata": {
  "kernelspec": {
   "display_name": "Python 3",
   "language": "python",
   "name": "python3"
  },
  "language_info": {
   "codemirror_mode": {
    "name": "ipython",
    "version": 3
   },
   "file_extension": ".py",
   "mimetype": "text/x-python",
   "name": "python",
   "nbconvert_exporter": "python",
   "pygments_lexer": "ipython3",
   "version": "3.7.0"
  }
 },
 "nbformat": 4,
 "nbformat_minor": 2
}

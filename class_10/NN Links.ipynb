{
 "cells": [
  {
   "cell_type": "markdown",
   "metadata": {},
   "source": [
    "## Links for NN\n",
    "   #### [Colah Blog -- Neural Nets, Manifolds](http://colah.github.io/posts/2014-03-NN-Manifolds-Topology/)\n",
    "   #### [Colah Blog -- Computational Graphs](http://colah.github.io/posts/2015-08-Backprop/)\n",
    "   #### [Cross Entropy](https://www.ics.uci.edu/~pjsadows/notes.pdf)\n",
    "   #### [Softmax and its derivative](https://eli.thegreenplace.net/2016/the-softmax-function-and-its-derivative/)\n",
    "   #### [Tensorflow Playground](https://playground.tensorflow.org)"
   ]
  },
  {
   "cell_type": "code",
   "execution_count": null,
   "metadata": {},
   "outputs": [],
   "source": []
  }
 ],
 "metadata": {
  "kernelspec": {
   "display_name": "Python 3",
   "language": "python",
   "name": "python3"
  },
  "language_info": {
   "codemirror_mode": {
    "name": "ipython",
    "version": 3
   },
   "file_extension": ".py",
   "mimetype": "text/x-python",
   "name": "python",
   "nbconvert_exporter": "python",
   "pygments_lexer": "ipython3",
   "version": "3.7.0"
  }
 },
 "nbformat": 4,
 "nbformat_minor": 2
}
